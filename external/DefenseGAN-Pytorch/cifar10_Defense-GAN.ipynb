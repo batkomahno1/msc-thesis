{
 "cells": [
  {
   "cell_type": "code",
   "execution_count": null,
   "metadata": {},
   "outputs": [],
   "source": [
    "import numpy as np\n",
    "import torch\n",
    "import torchvision\n",
    "import torchvision.transforms as transforms\n",
    "import torch.optim as optim\n",
    "import torch.nn as nn\n",
    "from sklearn.model_selection import train_test_split\n",
    "from torch.utils.data.sampler import SubsetRandomSampler\n",
    "from torch.utils.data import DataLoader\n",
    "import os\n",
    "\n",
    "from dataset import Adversarial_Dataset\n",
    "from util_defense_GAN import adjust_lr, get_z_sets, get_z_star, Resize_Image\n",
    "from model import CNN\n",
    "from gan_model import Generator\n",
    "from torchsummary import summary\n",
    "import copy"
   ]
  },
  {
   "cell_type": "markdown",
   "metadata": {},
   "source": [
    "### set parameters"
   ]
  },
  {
   "cell_type": "code",
   "execution_count": null,
   "metadata": {},
   "outputs": [],
   "source": [
    "batch_size = 32\n",
    "in_channel = 3\n",
    "height = 32\n",
    "width = 32\n",
    "\n",
    "display_steps = 20"
   ]
  },
  {
   "cell_type": "markdown",
   "metadata": {},
   "source": [
    "### Load classification model"
   ]
  },
  {
   "cell_type": "code",
   "execution_count": null,
   "metadata": {},
   "outputs": [],
   "source": [
    "# Send the model to GPU\n",
    "model = CNN()\n",
    "\n",
    "summary(model, input_size = (in_channel,height,width), device = 'cpu')"
   ]
  },
  {
   "cell_type": "code",
   "execution_count": null,
   "metadata": {},
   "outputs": [],
   "source": [
    "device_model = torch.device(0)"
   ]
  },
  {
   "cell_type": "code",
   "execution_count": null,
   "metadata": {},
   "outputs": [],
   "source": [
    "model.load_state_dict(torch.load('./checkpoints/cifar10.pth'))\n",
    "\n",
    "model = model.to(device_model)"
   ]
  },
  {
   "cell_type": "markdown",
   "metadata": {},
   "source": [
    "### load defense-GAN model"
   ]
  },
  {
   "cell_type": "code",
   "execution_count": null,
   "metadata": {},
   "outputs": [],
   "source": [
    "learning_rate = 10.0\n",
    "rec_iters = [200, 500, 1000]\n",
    "rec_rrs = [10, 15, 20]\n",
    "decay_rate = 0.1\n",
    "global_step = 3.0\n",
    "generator_input_size = 32\n",
    "\n",
    "INPUT_LATENT = 64 "
   ]
  },
  {
   "cell_type": "code",
   "execution_count": null,
   "metadata": {},
   "outputs": [],
   "source": [
    "device_generator = torch.device(7)"
   ]
  },
  {
   "cell_type": "code",
   "execution_count": null,
   "metadata": {},
   "outputs": [],
   "source": [
    "ModelG = Generator()\n",
    "\n",
    "generator_path = './defensive_models/gen_cifar10_gp_99.pth'\n",
    "\n",
    "ModelG.load_state_dict(torch.load(generator_path))\n",
    "\n",
    "summary(ModelG, input_size = (INPUT_LATENT,), device = 'cpu')"
   ]
  },
  {
   "cell_type": "code",
   "execution_count": null,
   "metadata": {},
   "outputs": [],
   "source": [
    "ModelG = ModelG.to(device_generator)"
   ]
  },
  {
   "cell_type": "code",
   "execution_count": null,
   "metadata": {},
   "outputs": [],
   "source": [
    "loss = nn.MSELoss()"
   ]
  },
  {
   "cell_type": "markdown",
   "metadata": {},
   "source": [
    "### load test dataset"
   ]
  },
  {
   "cell_type": "code",
   "execution_count": null,
   "metadata": {},
   "outputs": [],
   "source": [
    "# adversarial dataset path\n",
    "root_dir = './adversarial/'"
   ]
  },
  {
   "cell_type": "code",
   "execution_count": null,
   "metadata": {},
   "outputs": [],
   "source": [
    "# Normalize the test set same as training set without augmentation\n",
    "transform_test = transforms.Compose([\n",
    "    transforms.ToTensor(),\n",
    "])"
   ]
  },
  {
   "cell_type": "code",
   "execution_count": null,
   "metadata": {},
   "outputs": [],
   "source": [
    "testset = torchvision.datasets.CIFAR10(\n",
    "    root='./data', train=False, download=True, transform=transform_test)\n",
    "test_loader = torch.utils.data.DataLoader(\n",
    "    testset, batch_size=batch_size, shuffle=False, num_workers=2)"
   ]
  },
  {
   "cell_type": "markdown",
   "metadata": {},
   "source": [
    "### clean Image"
   ]
  },
  {
   "cell_type": "code",
   "execution_count": null,
   "metadata": {},
   "outputs": [],
   "source": [
    "model.eval()\n",
    "\n",
    "running_corrects = 0\n",
    "epoch_size = 0\n",
    "\n",
    "is_input_size_diff = False\n",
    "\n",
    "save_test_results = []\n",
    "\n",
    "for rec_iter in rec_iters:\n",
    "    for rec_rr in rec_rrs:\n",
    "        \n",
    "        for batch_idx, (inputs, labels) in enumerate(test_loader):\n",
    "\n",
    "            # size change\n",
    "\n",
    "            if inputs.size(2) != generator_input_size :\n",
    "\n",
    "                target_shape = (inputs.size(0), inputs.size(1), generator_input_size, generator_input_size)\n",
    "\n",
    "                data = Resize_Image(target_shape, inputs)\n",
    "                data = data.to(device_generator)\n",
    "\n",
    "                is_input_size_diff = True\n",
    "\n",
    "            else :\n",
    "                data = inputs.to(device_generator)\n",
    "\n",
    "            # find z*\n",
    "\n",
    "            _, z_sets = get_z_sets(ModelG, data, learning_rate, \\\n",
    "                                        loss, device_generator, rec_iter = rec_iter, \\\n",
    "                                        rec_rr = rec_rr, input_latent = INPUT_LATENT, global_step = global_step)\n",
    "\n",
    "            z_star = get_z_star(ModelG, data, z_sets, loss, device_generator)\n",
    "\n",
    "            # generate data\n",
    "\n",
    "            data_hat = ModelG(z_star.to(device_generator)).cpu().detach()\n",
    "\n",
    "            # size back\n",
    "\n",
    "            if is_input_size_diff:\n",
    "\n",
    "                target_shape = (inputs.size(0), inputs.size(1), height, width)\n",
    "                data_hat = Resize_Image(target_shape, data_hat)\n",
    "\n",
    "            # classifier \n",
    "            data_hat = data_hat.to(device_model)\n",
    "\n",
    "            labels = labels.to(device_model)\n",
    "\n",
    "            # evaluate \n",
    "\n",
    "            outputs = model(data_hat)\n",
    "\n",
    "            _, preds = torch.max(outputs, 1)\n",
    "\n",
    "            # statistics\n",
    "            running_corrects += torch.sum(preds == labels.data)\n",
    "            epoch_size += inputs.size(0)\n",
    "\n",
    "            if batch_idx % display_steps == 0:\n",
    "                print('{:>3}/{:>3} average acc {:.4f}\\r'\\\n",
    "                      .format(batch_idx+1, len(test_loader), running_corrects.double() / epoch_size))\n",
    "\n",
    "            del labels, outputs, preds, data, data_hat,z_star\n",
    "\n",
    "        test_acc = running_corrects.double() / epoch_size\n",
    "\n",
    "        print('rec_iter : {}, rec_rr : {}, Test Acc: {:.4f}'.format(rec_iter, rec_rr, test_acc))\n",
    "        \n",
    "        save_test_results.append(test_acc)"
   ]
  },
  {
   "cell_type": "code",
   "execution_count": null,
   "metadata": {},
   "outputs": [],
   "source": [
    "del test_loader"
   ]
  },
  {
   "cell_type": "markdown",
   "metadata": {},
   "source": [
    "### FGSM"
   ]
  },
  {
   "cell_type": "code",
   "execution_count": null,
   "metadata": {},
   "outputs": [],
   "source": [
    "adversarial_transform = transforms.Compose([\n",
    "    transforms.ToPILImage(),\n",
    "    transforms.ToTensor(),\n",
    "])"
   ]
  },
  {
   "cell_type": "code",
   "execution_count": null,
   "metadata": {},
   "outputs": [],
   "source": [
    "sample = Adversarial_Dataset(root_dir,'FGSM',adversarial_transform)"
   ]
  },
  {
   "cell_type": "code",
   "execution_count": null,
   "metadata": {},
   "outputs": [],
   "source": [
    "test_loader = DataLoader(\n",
    "    sample,\n",
    "    batch_size=batch_size,\n",
    "    num_workers=4\n",
    ")"
   ]
  },
  {
   "cell_type": "code",
   "execution_count": null,
   "metadata": {},
   "outputs": [],
   "source": [
    "model.eval()\n",
    "\n",
    "running_corrects = 0\n",
    "epoch_size = 0\n",
    "\n",
    "is_input_size_diff = False\n",
    "\n",
    "save_test_results = []\n",
    "\n",
    "for rec_iter in rec_iters:\n",
    "    for rec_rr in rec_rrs:\n",
    "        \n",
    "        for batch_idx, (inputs, labels) in enumerate(test_loader):\n",
    "\n",
    "            # size change\n",
    "\n",
    "            if inputs.size(2) != generator_input_size :\n",
    "\n",
    "                target_shape = (inputs.size(0), inputs.size(1), generator_input_size, generator_input_size)\n",
    "\n",
    "                data = Resize_Image(target_shape, inputs)\n",
    "                data = data.to(device_generator)\n",
    "\n",
    "                is_input_size_diff = True\n",
    "\n",
    "            else :\n",
    "                data = inputs.to(device_generator)\n",
    "\n",
    "            # find z*\n",
    "\n",
    "            _, z_sets = get_z_sets(ModelG, data, learning_rate, \\\n",
    "                                        loss, device_generator, rec_iter = rec_iter, \\\n",
    "                                        rec_rr = rec_rr, input_latent = INPUT_LATENT, global_step = global_step)\n",
    "\n",
    "            z_star = get_z_star(ModelG, data, z_sets, loss, device_generator)\n",
    "\n",
    "            # generate data\n",
    "\n",
    "            data_hat = ModelG(z_star.to(device_generator)).cpu().detach()\n",
    "\n",
    "            # size back\n",
    "\n",
    "            if is_input_size_diff:\n",
    "\n",
    "                target_shape = (inputs.size(0), inputs.size(1), height, width)\n",
    "                data_hat = Resize_Image(target_shape, data_hat)\n",
    "\n",
    "            # classifier \n",
    "            data_hat = data_hat.to(device_model)\n",
    "\n",
    "            labels = labels.to(device_model)\n",
    "\n",
    "            # evaluate \n",
    "\n",
    "            outputs = model(data_hat)\n",
    "\n",
    "            _, preds = torch.max(outputs, 1)\n",
    "\n",
    "            # statistics\n",
    "            running_corrects += torch.sum(preds == labels.data)\n",
    "            epoch_size += inputs.size(0)\n",
    "\n",
    "            if batch_idx % display_steps == 0:\n",
    "                print('{:>3}/{:>3} average acc {:.4f}\\r'\\\n",
    "                      .format(batch_idx+1, len(test_loader), running_corrects.double() / epoch_size))\n",
    "\n",
    "            del labels, outputs, preds, data, data_hat,z_star\n",
    "\n",
    "        test_acc = running_corrects.double() / epoch_size\n",
    "\n",
    "        print('rec_iter : {}, rec_rr : {}, Test Acc: {:.4f}'.format(rec_iter, rec_rr, test_acc))\n",
    "        \n",
    "        save_test_results.append(test_acc)"
   ]
  },
  {
   "cell_type": "code",
   "execution_count": null,
   "metadata": {},
   "outputs": [],
   "source": [
    "del test_loader"
   ]
  },
  {
   "cell_type": "markdown",
   "metadata": {},
   "source": [
    "### Deep Fool"
   ]
  },
  {
   "cell_type": "code",
   "execution_count": null,
   "metadata": {},
   "outputs": [],
   "source": [
    "adversarial_transform = transforms.Compose([\n",
    "    transforms.ToPILImage(),\n",
    "    transforms.ToTensor(),\n",
    "])"
   ]
  },
  {
   "cell_type": "code",
   "execution_count": null,
   "metadata": {},
   "outputs": [],
   "source": [
    "sample = Adversarial_Dataset(root_dir,'DF',adversarial_transform)"
   ]
  },
  {
   "cell_type": "code",
   "execution_count": null,
   "metadata": {},
   "outputs": [],
   "source": [
    "test_loader = DataLoader(\n",
    "    sample,\n",
    "    batch_size=batch_size,\n",
    "    num_workers=4\n",
    ")"
   ]
  },
  {
   "cell_type": "code",
   "execution_count": null,
   "metadata": {},
   "outputs": [],
   "source": [
    "model.eval()\n",
    "\n",
    "running_corrects = 0\n",
    "epoch_size = 0\n",
    "\n",
    "is_input_size_diff = False\n",
    "\n",
    "save_test_results = []\n",
    "\n",
    "for rec_iter in rec_iters:\n",
    "    for rec_rr in rec_rrs:\n",
    "        \n",
    "        for batch_idx, (inputs, labels) in enumerate(test_loader):\n",
    "\n",
    "            # size change\n",
    "\n",
    "            if inputs.size(2) != generator_input_size :\n",
    "\n",
    "                target_shape = (inputs.size(0), inputs.size(1), generator_input_size, generator_input_size)\n",
    "\n",
    "                data = Resize_Image(target_shape, inputs)\n",
    "                data = data.to(device_generator)\n",
    "\n",
    "                is_input_size_diff = True\n",
    "\n",
    "            else :\n",
    "                data = inputs.to(device_generator)\n",
    "\n",
    "            # find z*\n",
    "\n",
    "            _, z_sets = get_z_sets(ModelG, data, learning_rate, \\\n",
    "                                        loss, device_generator, rec_iter = rec_iter, \\\n",
    "                                        rec_rr = rec_rr, input_latent = INPUT_LATENT, global_step = global_step)\n",
    "\n",
    "            z_star = get_z_star(ModelG, data, z_sets, loss, device_generator)\n",
    "\n",
    "            # generate data\n",
    "\n",
    "            data_hat = ModelG(z_star.to(device_generator)).cpu().detach()\n",
    "\n",
    "            # size back\n",
    "\n",
    "            if is_input_size_diff:\n",
    "\n",
    "                target_shape = (inputs.size(0), inputs.size(1), height, width)\n",
    "                data_hat = Resize_Image(target_shape, data_hat)\n",
    "\n",
    "            # classifier \n",
    "            data_hat = data_hat.to(device_model)\n",
    "\n",
    "            labels = labels.to(device_model)\n",
    "\n",
    "            # evaluate \n",
    "\n",
    "            outputs = model(data_hat)\n",
    "\n",
    "            _, preds = torch.max(outputs, 1)\n",
    "\n",
    "            # statistics\n",
    "            running_corrects += torch.sum(preds == labels.data)\n",
    "            epoch_size += inputs.size(0)\n",
    "\n",
    "            if batch_idx % display_steps == 0:\n",
    "                print('{:>3}/{:>3} average acc {:.4f}\\r'\\\n",
    "                      .format(batch_idx+1, len(test_loader), running_corrects.double() / epoch_size))\n",
    "\n",
    "            del labels, outputs, preds, data, data_hat,z_star\n",
    "\n",
    "        test_acc = running_corrects.double() / epoch_size\n",
    "\n",
    "        print('rec_iter : {}, rec_rr : {}, Test Acc: {:.4f}'.format(rec_iter, rec_rr, test_acc))\n",
    "        \n",
    "        save_test_results.append(test_acc)"
   ]
  },
  {
   "cell_type": "code",
   "execution_count": null,
   "metadata": {},
   "outputs": [],
   "source": [
    "del test_loader"
   ]
  },
  {
   "cell_type": "markdown",
   "metadata": {},
   "source": [
    "### Saliency Map"
   ]
  },
  {
   "cell_type": "code",
   "execution_count": null,
   "metadata": {},
   "outputs": [],
   "source": [
    "adversarial_transform = transforms.Compose([\n",
    "    transforms.ToPILImage(),\n",
    "    transforms.ToTensor(),\n",
    "])"
   ]
  },
  {
   "cell_type": "code",
   "execution_count": null,
   "metadata": {},
   "outputs": [],
   "source": [
    "sample = Adversarial_Dataset(root_dir,'SM',adversarial_transform)"
   ]
  },
  {
   "cell_type": "code",
   "execution_count": null,
   "metadata": {},
   "outputs": [],
   "source": [
    "test_loader = DataLoader(\n",
    "    sample,\n",
    "    batch_size=batch_size,\n",
    "    num_workers=4\n",
    ")"
   ]
  },
  {
   "cell_type": "code",
   "execution_count": null,
   "metadata": {},
   "outputs": [],
   "source": [
    "model.eval()\n",
    "\n",
    "running_corrects = 0\n",
    "epoch_size = 0\n",
    "\n",
    "is_input_size_diff = False\n",
    "\n",
    "save_test_results = []\n",
    "\n",
    "for rec_iter in rec_iters:\n",
    "    for rec_rr in rec_rrs:\n",
    "        \n",
    "        for batch_idx, (inputs, labels) in enumerate(test_loader):\n",
    "\n",
    "            # size change\n",
    "\n",
    "            if inputs.size(2) != generator_input_size :\n",
    "\n",
    "                target_shape = (inputs.size(0), inputs.size(1), generator_input_size, generator_input_size)\n",
    "\n",
    "                data = Resize_Image(target_shape, inputs)\n",
    "                data = data.to(device_generator)\n",
    "\n",
    "                is_input_size_diff = True\n",
    "\n",
    "            else :\n",
    "                data = inputs.to(device_generator)\n",
    "\n",
    "            # find z*\n",
    "\n",
    "            _, z_sets = get_z_sets(ModelG, data, learning_rate, \\\n",
    "                                        loss, device_generator, rec_iter = rec_iter, \\\n",
    "                                        rec_rr = rec_rr, input_latent = INPUT_LATENT, global_step = global_step)\n",
    "\n",
    "            z_star = get_z_star(ModelG, data, z_sets, loss, device_generator)\n",
    "\n",
    "            # generate data\n",
    "\n",
    "            data_hat = ModelG(z_star.to(device_generator)).cpu().detach()\n",
    "\n",
    "            # size back\n",
    "\n",
    "            if is_input_size_diff:\n",
    "\n",
    "                target_shape = (inputs.size(0), inputs.size(1), height, width)\n",
    "                data_hat = Resize_Image(target_shape, data_hat)\n",
    "\n",
    "            # classifier \n",
    "            data_hat = data_hat.to(device_model)\n",
    "\n",
    "            labels = labels.to(device_model)\n",
    "\n",
    "            # evaluate \n",
    "\n",
    "            outputs = model(data_hat)\n",
    "\n",
    "            _, preds = torch.max(outputs, 1)\n",
    "\n",
    "            # statistics\n",
    "            running_corrects += torch.sum(preds == labels.data)\n",
    "            epoch_size += inputs.size(0)\n",
    "\n",
    "            if batch_idx % display_steps == 0:\n",
    "                print('{:>3}/{:>3} average acc {:.4f}\\r'\\\n",
    "                      .format(batch_idx+1, len(test_loader), running_corrects.double() / epoch_size))\n",
    "\n",
    "            del labels, outputs, preds, data, data_hat,z_star\n",
    "\n",
    "        test_acc = running_corrects.double() / epoch_size\n",
    "\n",
    "        print('rec_iter : {}, rec_rr : {}, Test Acc: {:.4f}'.format(rec_iter, rec_rr, test_acc))\n",
    "        \n",
    "        save_test_results.append(test_acc)"
   ]
  },
  {
   "cell_type": "code",
   "execution_count": null,
   "metadata": {},
   "outputs": [],
   "source": [
    "del test_loader"
   ]
  },
  {
   "cell_type": "code",
   "execution_count": null,
   "metadata": {},
   "outputs": [],
   "source": []
  }
 ],
 "metadata": {
  "kernelspec": {
   "display_name": "Python 3",
   "language": "python",
   "name": "python3"
  },
  "language_info": {
   "codemirror_mode": {
    "name": "ipython",
    "version": 3
   },
   "file_extension": ".py",
   "mimetype": "text/x-python",
   "name": "python",
   "nbconvert_exporter": "python",
   "pygments_lexer": "ipython3",
   "version": "3.5.2"
  }
 },
 "nbformat": 4,
 "nbformat_minor": 2
}
